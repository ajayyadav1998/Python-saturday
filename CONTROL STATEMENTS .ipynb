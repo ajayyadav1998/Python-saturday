{
 "cells": [
  {
   "cell_type": "raw",
   "metadata": {},
   "source": [
    "if condition:\n",
    "    print('this condition is true')\n",
    "elif condition:\n",
    "    print('this condition is true')\n",
    "else:\n",
    "    print('this condition is true')"
   ]
  },
  {
   "cell_type": "code",
   "execution_count": 1,
   "metadata": {},
   "outputs": [
    {
     "name": "stdout",
     "output_type": "stream",
     "text": [
      "before condition\n",
      "this condition is False\n",
      "after condition\n"
     ]
    }
   ],
   "source": [
    "print('before condition')\n",
    "\n",
    "if False:\n",
    "    print('this condition is true')\n",
    "else:\n",
    "    print('this condition is False')\n",
    "    \n",
    "print('after condition')"
   ]
  },
  {
   "cell_type": "code",
   "execution_count": 2,
   "metadata": {},
   "outputs": [
    {
     "name": "stdout",
     "output_type": "stream",
     "text": [
      "hello world\n"
     ]
    }
   ],
   "source": [
    "c = 1\n",
    "if c <= 10:\n",
    "    print('hello world')\n",
    "else:\n",
    "    print('bye world')"
   ]
  },
  {
   "cell_type": "code",
   "execution_count": 3,
   "metadata": {},
   "outputs": [
    {
     "name": "stdout",
     "output_type": "stream",
     "text": [
      "this condition2 is true\n"
     ]
    }
   ],
   "source": [
    "if False:\n",
    "    print('this condition1 is true')\n",
    "elif True:\n",
    "    print('this condition2 is true')\n",
    "elif True:\n",
    "    print('this condition is also true')\n",
    "else:\n",
    "    print('ho gya khtam')"
   ]
  },
  {
   "cell_type": "code",
   "execution_count": null,
   "metadata": {},
   "outputs": [],
   "source": [
    "x = int(input('enter a first number : '))\n",
    "y = int(input('enter a second number : '))\n",
    "z = int(input('enter a third number : '))\n",
    "\n",
    "if x >= y and x>=z:\n",
    "    print('x is greater ')\n",
    "elif y>=z:\n",
    "    print('y is greater ')\n",
    "else:\n",
    "    print('z is greater ')"
   ]
  },
  {
   "cell_type": "code",
   "execution_count": null,
   "metadata": {},
   "outputs": [],
   "source": [
    "inp = input('Enter foo or bar : ').strip().lower()\n",
    "inp = ''.join(inp.split())\n",
    "\n",
    "if inp == 'foo':\n",
    "    print('bar')\n",
    "elif inp == 'bar':\n",
    "    print('foo')\n",
    "else:\n",
    "    print('foo | bar')"
   ]
  },
  {
   "cell_type": "code",
   "execution_count": null,
   "metadata": {},
   "outputs": [],
   "source": [
    "inp"
   ]
  },
  {
   "cell_type": "code",
   "execution_count": null,
   "metadata": {},
   "outputs": [],
   "source": [
    "i = inp.split()\n",
    "i"
   ]
  },
  {
   "cell_type": "code",
   "execution_count": null,
   "metadata": {},
   "outputs": [],
   "source": [
    "a = input('enter something : ')\n",
    "b = a.split()\n",
    "print(b)"
   ]
  },
  {
   "cell_type": "code",
   "execution_count": null,
   "metadata": {},
   "outputs": [],
   "source": [
    "''.join(b)"
   ]
  },
  {
   "cell_type": "code",
   "execution_count": null,
   "metadata": {},
   "outputs": [],
   "source": [
    "u  = input('enter something').strip().upper().replace(' ','')\n",
    "\n",
    "if u == 'FOO':\n",
    "    print('bar')\n",
    "elif u == 'BAR':\n",
    "    print('foo')\n",
    "else:\n",
    "    print('foo | bar ')"
   ]
  },
  {
   "cell_type": "code",
   "execution_count": null,
   "metadata": {},
   "outputs": [],
   "source": [
    "mont = ['jan','feb','mar','apr','may','jun','jul','aug','sep','nov','dec']\n",
    "\n",
    "n = int(input('Enter a monthh number :  '))\n",
    "\n",
    "if n >= 1 and n <= 12:\n",
    "    print(*mont[:n-1])\n",
    "    print('your given month is : ',mont[n-1])\n",
    "    print(*mont[n:])\n",
    "else:\n",
    "    print('plz give valid input......')"
   ]
  },
  {
   "cell_type": "code",
   "execution_count": null,
   "metadata": {},
   "outputs": [],
   "source": [
    "a = int(input('enter a number of month : '))"
   ]
  },
  {
   "cell_type": "code",
   "execution_count": null,
   "metadata": {},
   "outputs": [],
   "source": [
    "mont[a-1]"
   ]
  },
  {
   "cell_type": "code",
   "execution_count": null,
   "metadata": {},
   "outputs": [],
   "source": [
    "mont"
   ]
  },
  {
   "cell_type": "code",
   "execution_count": null,
   "metadata": {},
   "outputs": [],
   "source": [
    "print(*mont)"
   ]
  },
  {
   "cell_type": "code",
   "execution_count": null,
   "metadata": {},
   "outputs": [],
   "source": [
    "0"
   ]
  }
 ],
 "metadata": {
  "kernelspec": {
   "display_name": "Python 3",
   "language": "python",
   "name": "python3"
  },
  "language_info": {
   "codemirror_mode": {
    "name": "ipython",
    "version": 3
   },
   "file_extension": ".py",
   "mimetype": "text/x-python",
   "name": "python",
   "nbconvert_exporter": "python",
   "pygments_lexer": "ipython3",
   "version": "3.7.3"
  }
 },
 "nbformat": 4,
 "nbformat_minor": 2
}
