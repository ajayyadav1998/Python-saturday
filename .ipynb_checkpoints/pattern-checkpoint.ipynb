{
 "cells": [
  {
   "cell_type": "code",
   "execution_count": 5,
   "metadata": {},
   "outputs": [
    {
     "name": "stdout",
     "output_type": "stream",
     "text": [
      "AABAB"
     ]
    },
    {
     "ename": "KeyboardInterrupt",
     "evalue": "",
     "output_type": "error",
     "traceback": [
      "\u001b[1;31m---------------------------------------------------------------------------\u001b[0m",
      "\u001b[1;31mKeyboardInterrupt\u001b[0m                         Traceback (most recent call last)",
      "\u001b[1;32m<ipython-input-5-5db4634a7e02>\u001b[0m in \u001b[0;36m<module>\u001b[1;34m()\u001b[0m\n\u001b[0;32m      2\u001b[0m \u001b[1;32mfor\u001b[0m \u001b[0mi\u001b[0m \u001b[1;32min\u001b[0m \u001b[0mrange\u001b[0m\u001b[1;33m(\u001b[0m\u001b[1;36m1\u001b[0m\u001b[1;33m,\u001b[0m \u001b[1;36m6\u001b[0m\u001b[1;33m)\u001b[0m\u001b[1;33m:\u001b[0m\u001b[1;33m\u001b[0m\u001b[0m\n\u001b[0;32m      3\u001b[0m     \u001b[1;32mfor\u001b[0m \u001b[0mj\u001b[0m \u001b[1;32min\u001b[0m \u001b[0mrange\u001b[0m\u001b[1;33m(\u001b[0m\u001b[1;36m65\u001b[0m\u001b[1;33m,\u001b[0m \u001b[1;36m65\u001b[0m\u001b[1;33m+\u001b[0m\u001b[0mi\u001b[0m\u001b[1;33m)\u001b[0m\u001b[1;33m:\u001b[0m\u001b[1;33m\u001b[0m\u001b[0m\n\u001b[1;32m----> 4\u001b[1;33m         \u001b[0mtime\u001b[0m\u001b[1;33m.\u001b[0m\u001b[0msleep\u001b[0m\u001b[1;33m(\u001b[0m\u001b[1;36m3\u001b[0m\u001b[1;33m)\u001b[0m\u001b[1;33m\u001b[0m\u001b[0m\n\u001b[0m\u001b[0;32m      5\u001b[0m         \u001b[0ma\u001b[0m \u001b[1;33m=\u001b[0m \u001b[0mchr\u001b[0m\u001b[1;33m(\u001b[0m\u001b[0mj\u001b[0m\u001b[1;33m)\u001b[0m\u001b[1;33m\u001b[0m\u001b[0m\n\u001b[0;32m      6\u001b[0m         \u001b[0mprint\u001b[0m\u001b[1;33m(\u001b[0m\u001b[0ma\u001b[0m\u001b[1;33m,\u001b[0m\u001b[0mend\u001b[0m\u001b[1;33m=\u001b[0m\u001b[1;34m''\u001b[0m\u001b[1;33m)\u001b[0m\u001b[1;33m\u001b[0m\u001b[0m\n",
      "\u001b[1;31mKeyboardInterrupt\u001b[0m: "
     ]
    }
   ],
   "source": [
    "import time\n",
    "for i in range(1, 6):\n",
    "    for j in range(65, 65+i):\n",
    "        time.sleep(3)\n",
    "        a = chr(j)\n",
    "        print(a)\n",
    "    #print()"
   ]
  },
  {
   "cell_type": "code",
   "execution_count": 13,
   "metadata": {},
   "outputs": [
    {
     "name": "stdout",
     "output_type": "stream",
     "text": [
      "     A\n",
      "    A    B\n",
      "   A   B   C\n",
      "  A  B  C  D\n",
      " A B C D E\n"
     ]
    }
   ],
   "source": [
    "for i in range(1, 6):\n",
    "    for j in range(65, 65+i):\n",
    "        a = chr(j)\n",
    "        print(' '*(6-i)+a, end=\"\")\n",
    "    print()"
   ]
  },
  {
   "cell_type": "code",
   "execution_count": 14,
   "metadata": {},
   "outputs": [],
   "source": [
    "from string import ascii_uppercase"
   ]
  },
  {
   "cell_type": "code",
   "execution_count": 15,
   "metadata": {},
   "outputs": [
    {
     "name": "stdout",
     "output_type": "stream",
     "text": [
      "A\n",
      "AB\n",
      "ABC\n",
      "ABCD\n",
      "ABCDE\n",
      "ABCDEF\n",
      "ABCDEFG\n"
     ]
    }
   ],
   "source": [
    "for var in range(1,8):\n",
    "    print(''.join(ascii_uppercase[:var]))"
   ]
  },
  {
   "cell_type": "code",
   "execution_count": 16,
   "metadata": {},
   "outputs": [
    {
     "name": "stdout",
     "output_type": "stream",
     "text": [
      "ABCDEFGHIJKLMNOPQRSTUVWXYZ\n"
     ]
    }
   ],
   "source": [
    "print(ascii_uppercase)"
   ]
  },
  {
   "cell_type": "code",
   "execution_count": 17,
   "metadata": {},
   "outputs": [
    {
     "data": {
      "text/plain": [
       "'ABCDEFG'"
      ]
     },
     "execution_count": 17,
     "metadata": {},
     "output_type": "execute_result"
    }
   ],
   "source": [
    "ascii_uppercase[:var]"
   ]
  },
  {
   "cell_type": "code",
   "execution_count": 21,
   "metadata": {},
   "outputs": [
    {
     "name": "stdout",
     "output_type": "stream",
     "text": [
      "A \n",
      "B C D \n",
      "E F G H I \n",
      "J K L M N O P \n",
      "Q R S T U V W X Y \n"
     ]
    }
   ],
   "source": [
    "incr = 1\n",
    "val = 65\n",
    "for i in range(0, 5):\n",
    "    for j in range(0, incr):\n",
    "        ch = chr(val)\n",
    "        print(ch, end=\" \")\n",
    "        val = val + 1\n",
    "    incr = incr + 2\n",
    "    print()"
   ]
  },
  {
   "cell_type": "code",
   "execution_count": 31,
   "metadata": {},
   "outputs": [
    {
     "name": "stdout",
     "output_type": "stream",
     "text": [
      "     \n"
     ]
    },
    {
     "ename": "NameError",
     "evalue": "name 'n' is not defined",
     "output_type": "error",
     "traceback": [
      "\u001b[1;31m---------------------------------------------------------------------------\u001b[0m",
      "\u001b[1;31mNameError\u001b[0m                                 Traceback (most recent call last)",
      "\u001b[1;32m<ipython-input-31-b6379868505c>\u001b[0m in \u001b[0;36m<module>\u001b[1;34m()\u001b[0m\n\u001b[0;32m      2\u001b[0m \u001b[1;32mfor\u001b[0m \u001b[0mi\u001b[0m \u001b[1;32min\u001b[0m \u001b[0mrange\u001b[0m\u001b[1;33m(\u001b[0m\u001b[1;36m0\u001b[0m\u001b[1;33m,\u001b[0m\u001b[1;36m5\u001b[0m\u001b[1;33m)\u001b[0m\u001b[1;33m:\u001b[0m\u001b[1;33m\u001b[0m\u001b[0m\n\u001b[0;32m      3\u001b[0m     \u001b[0mprint\u001b[0m\u001b[1;33m(\u001b[0m\u001b[1;34m\" \"\u001b[0m\u001b[1;33m*\u001b[0m\u001b[1;33m(\u001b[0m\u001b[1;36m5\u001b[0m\u001b[1;33m-\u001b[0m\u001b[0mi\u001b[0m\u001b[1;33m)\u001b[0m\u001b[1;33m)\u001b[0m\u001b[1;33m\u001b[0m\u001b[0m\n\u001b[1;32m----> 4\u001b[1;33m     \u001b[1;32mfor\u001b[0m \u001b[0mj\u001b[0m \u001b[1;32min\u001b[0m \u001b[0mrange\u001b[0m\u001b[1;33m(\u001b[0m\u001b[0mi\u001b[0m\u001b[1;33m,\u001b[0m\u001b[0mn\u001b[0m\u001b[1;33m)\u001b[0m\u001b[1;33m:\u001b[0m\u001b[1;33m\u001b[0m\u001b[0m\n\u001b[0m\u001b[0;32m      5\u001b[0m         \u001b[0mprint\u001b[0m\u001b[1;33m(\u001b[0m\u001b[0mchr\u001b[0m\u001b[1;33m(\u001b[0m\u001b[0mj\u001b[0m\u001b[1;33m)\u001b[0m\u001b[1;33m)\u001b[0m\u001b[1;33m\u001b[0m\u001b[0m\n\u001b[0;32m      6\u001b[0m \u001b[1;33m\u001b[0m\u001b[0m\n",
      "\u001b[1;31mNameError\u001b[0m: name 'n' is not defined"
     ]
    }
   ],
   "source": [
    "n = 0\n",
    "val = 65\n",
    "for i in range(0,5):\n",
    "    print(\" \"*(5-i))\n",
    "    for j in range(i,n):\n",
    "        print(chr(j))"
   ]
  },
  {
   "cell_type": "code",
   "execution_count": 51,
   "metadata": {},
   "outputs": [
    {
     "name": "stdout",
     "output_type": "stream",
     "text": [
      "A \r\n",
      "B B \r\n",
      "C C C \r\n",
      "D D D D \r\n",
      "E E E E E \r\n",
      "F F F F F F \r\n",
      "G G G G G G G \r\n",
      "H H H H H H H H \r\n",
      "I I I I I I I I I \r\n",
      "J J J J J J J J J J \r\n",
      "K K K K K K K K K K K \r\n",
      "L L L L L L L L L L L L \r\n",
      "M M M M M M M M M M M M M \r\n",
      "N N N N N N N N N N N N N N \r\n",
      "O O O O O O O O O O O O O O O \r\n",
      "P P P P P P P P P P P P P P P P \r\n",
      "Q Q Q Q Q Q Q Q Q Q Q Q Q Q Q Q Q \r\n",
      "R R R R R R R R R R R R R R R R R R \r\n",
      "S S S S S S S S S S S S S S S S S S S \r\n",
      "T T T T T T T T T T T T T T T T T T T T \r\n"
     ]
    }
   ],
   "source": [
    "num = 65\n",
    "n = 5\n",
    "for i in range(0,20):\n",
    "    for j in range(0,i+1):\n",
    "        print(f\"{chr(num)}\",end=' ')\n",
    "    num += 1\n",
    "    print('\\r')"
   ]
  },
  {
   "cell_type": "code",
   "execution_count": 62,
   "metadata": {},
   "outputs": [
    {
     "name": "stdout",
     "output_type": "stream",
     "text": [
      "                          A \n",
      "                         B B \n",
      "                        C C C \n",
      "                       D D D D \n",
      "                      E E E E E \n",
      "                     F F F F F F \n",
      "                    G G G G G G G \n",
      "                   H H H H H H H H \n",
      "                  I I I I I I I I I \n",
      "                 J J J J J J J J J J \n",
      "                K K K K K K K K K K K \n",
      "               L L L L L L L L L L L L \n",
      "              M M M M M M M M M M M M M \n",
      "             N N N N N N N N N N N N N N \n",
      "            O O O O O O O O O O O O O O O \n",
      "           P P P P P P P P P P P P P P P P \n",
      "          Q Q Q Q Q Q Q Q Q Q Q Q Q Q Q Q Q \n",
      "         R R R R R R R R R R R R R R R R R R \n",
      "        S S S S S S S S S S S S S S S S S S S \n",
      "       T T T T T T T T T T T T T T T T T T T T \n",
      "      U U U U U U U U U U U U U U U U U U U U U \n",
      "     V V V V V V V V V V V V V V V V V V V V V V \n",
      "    W W W W W W W W W W W W W W W W W W W W W W W \n",
      "   X X X X X X X X X X X X X X X X X X X X X X X X \n",
      "  Y Y Y Y Y Y Y Y Y Y Y Y Y Y Y Y Y Y Y Y Y Y Y Y Y \n",
      " Z Z Z Z Z Z Z Z Z Z Z Z Z Z Z Z Z Z Z Z Z Z Z Z Z Z \n"
     ]
    }
   ],
   "source": [
    "c = 65\n",
    "n = 1\n",
    "for var in range(65,91):\n",
    "    print(' '*(91-c)+f\"{chr(c)} \"*n)\n",
    "    n += 1\n",
    "    c += 1"
   ]
  },
  {
   "cell_type": "code",
   "execution_count": 53,
   "metadata": {},
   "outputs": [
    {
     "data": {
      "text/plain": [
       "27"
      ]
     },
     "execution_count": 53,
     "metadata": {},
     "output_type": "execute_result"
    }
   ],
   "source": [
    "n"
   ]
  },
  {
   "cell_type": "code",
   "execution_count": 58,
   "metadata": {},
   "outputs": [
    {
     "name": "stdout",
     "output_type": "stream",
     "text": [
      "                          A\n",
      "                         BB\n",
      "                        CCC\n",
      "                       DDDD\n",
      "                      EEEEE\n",
      "                     FFFFFF\n",
      "                    GGGGGGG\n",
      "                   HHHHHHHH\n",
      "                  IIIIIIIII\n",
      "                 JJJJJJJJJJ\n",
      "                KKKKKKKKKKK\n",
      "               LLLLLLLLLLLL\n",
      "              MMMMMMMMMMMMM\n",
      "             NNNNNNNNNNNNNN\n",
      "            OOOOOOOOOOOOOOO\n",
      "           PPPPPPPPPPPPPPPP\n",
      "          QQQQQQQQQQQQQQQQQ\n",
      "         RRRRRRRRRRRRRRRRRR\n",
      "        SSSSSSSSSSSSSSSSSSS\n",
      "       TTTTTTTTTTTTTTTTTTTT\n",
      "      UUUUUUUUUUUUUUUUUUUUU\n",
      "     VVVVVVVVVVVVVVVVVVVVVV\n",
      "    WWWWWWWWWWWWWWWWWWWWWWW\n",
      "   XXXXXXXXXXXXXXXXXXXXXXXX\n",
      "  YYYYYYYYYYYYYYYYYYYYYYYYY\n",
      " ZZZZZZZZZZZZZZZZZZZZZZZZZZ\n"
     ]
    }
   ],
   "source": [
    "c = 65\n",
    "n = 1\n",
    "for var in range(65,91):\n",
    "    print(' '*(91-c)+chr(var)*n)\n",
    "    n += 1\n",
    "    c += 1"
   ]
  },
  {
   "cell_type": "code",
   "execution_count": null,
   "metadata": {},
   "outputs": [],
   "source": []
  },
  {
   "cell_type": "code",
   "execution_count": null,
   "metadata": {},
   "outputs": [],
   "source": []
  }
 ],
 "metadata": {
  "kernelspec": {
   "display_name": "Python 3",
   "language": "python",
   "name": "python3"
  },
  "language_info": {
   "codemirror_mode": {
    "name": "ipython",
    "version": 3
   },
   "file_extension": ".py",
   "mimetype": "text/x-python",
   "name": "python",
   "nbconvert_exporter": "python",
   "pygments_lexer": "ipython3",
   "version": "3.6.5"
  }
 },
 "nbformat": 4,
 "nbformat_minor": 2
}
