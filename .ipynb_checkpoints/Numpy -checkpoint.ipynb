{
 "cells": [
  {
   "cell_type": "code",
   "execution_count": 1,
   "metadata": {},
   "outputs": [],
   "source": [
    "import numpy as np\n",
    "import pandas as pd\n",
    "import matplotlib.pyplot as plt\n",
    "%matplotlib inline"
   ]
  },
  {
   "cell_type": "code",
   "execution_count": 2,
   "metadata": {},
   "outputs": [],
   "source": [
    "a = [1,2,3,4,5,6]"
   ]
  },
  {
   "cell_type": "code",
   "execution_count": 4,
   "metadata": {},
   "outputs": [
    {
     "data": {
      "text/plain": [
       "list"
      ]
     },
     "execution_count": 4,
     "metadata": {},
     "output_type": "execute_result"
    }
   ],
   "source": [
    "type(a)"
   ]
  },
  {
   "cell_type": "code",
   "execution_count": 5,
   "metadata": {},
   "outputs": [
    {
     "data": {
      "text/plain": [
       "[1, 2, 3, 4, 5, 6]"
      ]
     },
     "execution_count": 5,
     "metadata": {},
     "output_type": "execute_result"
    }
   ],
   "source": [
    "a"
   ]
  },
  {
   "cell_type": "code",
   "execution_count": 6,
   "metadata": {},
   "outputs": [],
   "source": [
    "a = np.array(a)"
   ]
  },
  {
   "cell_type": "code",
   "execution_count": 7,
   "metadata": {},
   "outputs": [
    {
     "data": {
      "text/plain": [
       "array([1, 2, 3, 4, 5, 6])"
      ]
     },
     "execution_count": 7,
     "metadata": {},
     "output_type": "execute_result"
    }
   ],
   "source": [
    "a"
   ]
  },
  {
   "cell_type": "code",
   "execution_count": 8,
   "metadata": {},
   "outputs": [
    {
     "data": {
      "text/plain": [
       "numpy.ndarray"
      ]
     },
     "execution_count": 8,
     "metadata": {},
     "output_type": "execute_result"
    }
   ],
   "source": [
    "type(a)"
   ]
  },
  {
   "cell_type": "code",
   "execution_count": 9,
   "metadata": {},
   "outputs": [],
   "source": [
    "b = np.array([4,5,6,7,8,9,10])"
   ]
  },
  {
   "cell_type": "code",
   "execution_count": 10,
   "metadata": {},
   "outputs": [
    {
     "data": {
      "text/plain": [
       "array([ 4,  5,  6,  7,  8,  9, 10])"
      ]
     },
     "execution_count": 10,
     "metadata": {},
     "output_type": "execute_result"
    }
   ],
   "source": [
    "b"
   ]
  },
  {
   "cell_type": "code",
   "execution_count": 13,
   "metadata": {},
   "outputs": [],
   "source": [
    "arr = np.arange(1,101)"
   ]
  },
  {
   "cell_type": "code",
   "execution_count": 15,
   "metadata": {},
   "outputs": [
    {
     "data": {
      "text/plain": [
       "1"
      ]
     },
     "execution_count": 15,
     "metadata": {},
     "output_type": "execute_result"
    }
   ],
   "source": [
    "arr.ndim"
   ]
  },
  {
   "cell_type": "code",
   "execution_count": 18,
   "metadata": {},
   "outputs": [
    {
     "data": {
      "text/plain": [
       "(100,)"
      ]
     },
     "execution_count": 18,
     "metadata": {},
     "output_type": "execute_result"
    }
   ],
   "source": [
    "arr.shape"
   ]
  },
  {
   "cell_type": "code",
   "execution_count": 20,
   "metadata": {},
   "outputs": [],
   "source": [
    "arr = arr.reshape(20,5)"
   ]
  },
  {
   "cell_type": "code",
   "execution_count": 22,
   "metadata": {},
   "outputs": [
    {
     "data": {
      "text/plain": [
       "(20, 5)"
      ]
     },
     "execution_count": 22,
     "metadata": {},
     "output_type": "execute_result"
    }
   ],
   "source": [
    "arr.shape"
   ]
  },
  {
   "cell_type": "code",
   "execution_count": 24,
   "metadata": {},
   "outputs": [
    {
     "data": {
      "text/plain": [
       "array([[  1,   2,   3,   4,   5,   6,   7,   8,   9,  10,  11,  12,  13,\n",
       "         14,  15,  16,  17,  18,  19,  20],\n",
       "       [ 21,  22,  23,  24,  25,  26,  27,  28,  29,  30,  31,  32,  33,\n",
       "         34,  35,  36,  37,  38,  39,  40],\n",
       "       [ 41,  42,  43,  44,  45,  46,  47,  48,  49,  50,  51,  52,  53,\n",
       "         54,  55,  56,  57,  58,  59,  60],\n",
       "       [ 61,  62,  63,  64,  65,  66,  67,  68,  69,  70,  71,  72,  73,\n",
       "         74,  75,  76,  77,  78,  79,  80],\n",
       "       [ 81,  82,  83,  84,  85,  86,  87,  88,  89,  90,  91,  92,  93,\n",
       "         94,  95,  96,  97,  98,  99, 100]])"
      ]
     },
     "execution_count": 24,
     "metadata": {},
     "output_type": "execute_result"
    }
   ],
   "source": [
    "np.arange(1,101).reshape(5,-1)"
   ]
  },
  {
   "cell_type": "code",
   "execution_count": 26,
   "metadata": {},
   "outputs": [],
   "source": [
    "x = np.linspace(0,5,11)"
   ]
  },
  {
   "cell_type": "code",
   "execution_count": 27,
   "metadata": {},
   "outputs": [],
   "source": [
    "y = x**3"
   ]
  },
  {
   "cell_type": "code",
   "execution_count": 28,
   "metadata": {},
   "outputs": [
    {
     "data": {
      "text/plain": [
       "array([0. , 0.5, 1. , 1.5, 2. , 2.5, 3. , 3.5, 4. , 4.5, 5. ])"
      ]
     },
     "execution_count": 28,
     "metadata": {},
     "output_type": "execute_result"
    }
   ],
   "source": [
    "x"
   ]
  },
  {
   "cell_type": "code",
   "execution_count": 29,
   "metadata": {},
   "outputs": [
    {
     "data": {
      "text/plain": [
       "array([  0.   ,   0.125,   1.   ,   3.375,   8.   ,  15.625,  27.   ,\n",
       "        42.875,  64.   ,  91.125, 125.   ])"
      ]
     },
     "execution_count": 29,
     "metadata": {},
     "output_type": "execute_result"
    }
   ],
   "source": [
    "y"
   ]
  },
  {
   "cell_type": "code",
   "execution_count": 30,
   "metadata": {},
   "outputs": [
    {
     "data": {
      "text/plain": [
       "True"
      ]
     },
     "execution_count": 30,
     "metadata": {},
     "output_type": "execute_result"
    }
   ],
   "source": [
    "len(x) == len(y)"
   ]
  },
  {
   "cell_type": "code",
   "execution_count": 31,
   "metadata": {},
   "outputs": [
    {
     "data": {
      "text/plain": [
       "11"
      ]
     },
     "execution_count": 31,
     "metadata": {},
     "output_type": "execute_result"
    }
   ],
   "source": [
    "len(x)"
   ]
  },
  {
   "cell_type": "code",
   "execution_count": 33,
   "metadata": {},
   "outputs": [
    {
     "data": {
      "image/png": "[encoded data removed]",
      "text/plain": [
       "<Figure size 720x360 with 1 Axes>"
      ]
     },
     "metadata": {
      "needs_background": "light"
     },
     "output_type": "display_data"
    }
   ],
   "source": [
    "plt.figure(figsize=(10,5))\n",
    "plt.plot(x,y)\n",
    "plt.title('plot of x and y')\n",
    "plt.xlabel('x-axis')\n",
    "plt.ylabel('y-axis')\n",
    "plt.show()"
   ]
  },
  {
   "cell_type": "code",
   "execution_count": 34,
   "metadata": {},
   "outputs": [
    {
     "data": {
      "text/plain": [
       "array([[1., 0., 0., 0., 0., 0., 0., 0., 0., 0.],\n",
       "       [0., 1., 0., 0., 0., 0., 0., 0., 0., 0.],\n",
       "       [0., 0., 1., 0., 0., 0., 0., 0., 0., 0.],\n",
       "       [0., 0., 0., 1., 0., 0., 0., 0., 0., 0.],\n",
       "       [0., 0., 0., 0., 1., 0., 0., 0., 0., 0.],\n",
       "       [0., 0., 0., 0., 0., 1., 0., 0., 0., 0.],\n",
       "       [0., 0., 0., 0., 0., 0., 1., 0., 0., 0.],\n",
       "       [0., 0., 0., 0., 0., 0., 0., 1., 0., 0.],\n",
       "       [0., 0., 0., 0., 0., 0., 0., 0., 1., 0.],\n",
       "       [0., 0., 0., 0., 0., 0., 0., 0., 0., 1.]])"
      ]
     },
     "execution_count": 34,
     "metadata": {},
     "output_type": "execute_result"
    }
   ],
   "source": [
    "np.eye(10)"
   ]
  },
  {
   "cell_type": "code",
   "execution_count": 35,
   "metadata": {},
   "outputs": [
    {
     "data": {
      "text/plain": [
       "array([[8, 8, 8, 8, 8, 8, 8, 8, 8, 8],\n",
       "       [8, 8, 8, 8, 8, 8, 8, 8, 8, 8],\n",
       "       [8, 8, 8, 8, 8, 8, 8, 8, 8, 8],\n",
       "       [8, 8, 8, 8, 8, 8, 8, 8, 8, 8],\n",
       "       [8, 8, 8, 8, 8, 8, 8, 8, 8, 8],\n",
       "       [8, 8, 8, 8, 8, 8, 8, 8, 8, 8],\n",
       "       [8, 8, 8, 8, 8, 8, 8, 8, 8, 8],\n",
       "       [8, 8, 8, 8, 8, 8, 8, 8, 8, 8],\n",
       "       [8, 8, 8, 8, 8, 8, 8, 8, 8, 8],\n",
       "       [8, 8, 8, 8, 8, 8, 8, 8, 8, 8]])"
      ]
     },
     "execution_count": 35,
     "metadata": {},
     "output_type": "execute_result"
    }
   ],
   "source": [
    "np.full((10,10),8)"
   ]
  },
  {
   "cell_type": "code",
   "execution_count": 37,
   "metadata": {},
   "outputs": [
    {
     "data": {
      "text/plain": [
       "array([  1,   2,   3,   4,   5,   6,   7,   8,   9,  10,  11,  12,  13,\n",
       "        14,  15,  16,  17,  18,  19,  20,  21,  22,  23,  24,  25,  26,\n",
       "        27,  28,  29,  30,  31,  32,  33,  34,  35,  36,  37,  38,  39,\n",
       "        40,  41,  42,  43,  44,  45,  46,  47,  48,  49,  50,  51,  52,\n",
       "        53,  54,  55,  56,  57,  58,  59,  60,  61,  62,  63,  64,  65,\n",
       "        66,  67,  68,  69,  70,  71,  72,  73,  74,  75,  76,  77,  78,\n",
       "        79,  80,  81,  82,  83,  84,  85,  86,  87,  88,  89,  90,  91,\n",
       "        92,  93,  94,  95,  96,  97,  98,  99, 100])"
      ]
     },
     "execution_count": 37,
     "metadata": {},
     "output_type": "execute_result"
    }
   ],
   "source": [
    "arr.flatten()"
   ]
  },
  {
   "cell_type": "code",
   "execution_count": 40,
   "metadata": {},
   "outputs": [
    {
     "data": {
      "text/plain": [
       "array([  1,   2,   3,   4,   5,   6,   7,   8,   9,  10,  11,  12,  13,\n",
       "        14,  15,  16,  17,  18,  19,  20,  21,  22,  23,  24,  25,  26,\n",
       "        27,  28,  29,  30,  31,  32,  33,  34,  35,  36,  37,  38,  39,\n",
       "        40,  41,  42,  43,  44,  45,  46,  47,  48,  49,  50,  51,  52,\n",
       "        53,  54,  55,  56,  57,  58,  59,  60,  61,  62,  63,  64,  65,\n",
       "        66,  67,  68,  69,  70,  71,  72,  73,  74,  75,  76,  77,  78,\n",
       "        79,  80,  81,  82,  83,  84,  85,  86,  87,  88,  89,  90,  91,\n",
       "        92,  93,  94,  95,  96,  97,  98,  99, 100])"
      ]
     },
     "execution_count": 40,
     "metadata": {},
     "output_type": "execute_result"
    }
   ],
   "source": [
    "arr.ravel()"
   ]
  },
  {
   "cell_type": "code",
   "execution_count": 47,
   "metadata": {},
   "outputs": [
    {
     "data": {
      "text/plain": [
       "array([[90, 75, 61, 30, 70, 92, 42, 26, 46, 20],\n",
       "       [55, 21, 85, 15, 21, 19, 22, 44, 27, 58],\n",
       "       [87, 32, 60, 74,  7, 38, 62, 68, 58, 40],\n",
       "       [76, 32, 93, 36, 99, 77, 95, 55,  4, 56],\n",
       "       [15,  8,  2,  5, 51, 18, 67, 33, 81, 57],\n",
       "       [26,  8, 56,  9, 68, 39, 72, 52, 22, 61],\n",
       "       [36, 38, 66, 17, 83, 94, 61, 89,  2, 84],\n",
       "       [25, 98, 42, 56, 26, 48, 50, 19, 25, 77],\n",
       "       [51, 33, 77, 68, 36,  2, 74, 65, 83, 98],\n",
       "       [54, 30, 87, 15, 11, 57, 65, 70, 11, 49],\n",
       "       [31, 72,  7, 18,  1, 49, 42, 63, 44, 80],\n",
       "       [30,  3, 62, 93, 97, 92, 30, 23, 71, 55],\n",
       "       [97,  2, 88,  3, 61, 62, 12, 94, 25, 40],\n",
       "       [89, 30, 22, 85, 95, 52, 67, 48, 79, 28],\n",
       "       [58, 33, 14, 66, 61, 88, 63, 35, 33, 19],\n",
       "       [77, 61, 83, 95, 58, 11, 90, 12, 51, 45],\n",
       "       [21,  4, 79, 92, 23, 11, 64,  5, 96, 23],\n",
       "       [10, 42,  9, 77, 85, 71, 68, 61, 94, 68],\n",
       "       [99, 96, 78, 41, 70, 32, 26, 35, 48, 13],\n",
       "       [63, 63, 23, 75, 76, 42, 50, 21, 42, 35],\n",
       "       [14, 18, 20, 83, 47, 91, 23, 78, 78, 38],\n",
       "       [71, 61, 25, 52, 90, 25, 53, 93, 40, 31],\n",
       "       [76, 57, 76, 75, 47, 39, 11, 12, 24, 52],\n",
       "       [36, 28, 48, 26, 45, 65, 93, 79, 23, 92],\n",
       "       [12, 61, 23, 37, 23, 77, 21,  6, 27, 48],\n",
       "       [48, 60, 96, 25, 20, 18, 22, 99, 92, 36],\n",
       "       [64, 62, 89, 40, 45, 53, 54, 51,  1, 36],\n",
       "       [15, 26, 41, 85, 63, 13, 10, 17, 25,  5],\n",
       "       [12, 79, 53, 67, 83, 28, 29,  1, 67,  4],\n",
       "       [71, 92, 15, 48, 54, 99, 36, 10, 87, 48],\n",
       "       [90, 89, 57, 87, 98, 59, 17, 66, 63, 18],\n",
       "       [35, 67, 12, 72, 12, 87, 49, 39, 75, 29],\n",
       "       [97, 61, 35, 92, 13, 59, 47, 52, 70, 32],\n",
       "       [11, 52, 71, 84, 77, 71, 19, 59, 46, 69],\n",
       "       [69, 35, 76,  2, 40, 55, 88, 56,  5, 18],\n",
       "       [ 8, 75, 22, 20, 47, 29, 80, 59,  5, 20],\n",
       "       [33,  7, 86, 63, 81, 31,  3, 37, 69, 36],\n",
       "       [21, 28, 52, 55, 37, 77,  8, 43, 19,  1],\n",
       "       [69, 75, 42, 55, 62, 29, 32, 60, 24, 58],\n",
       "       [ 9,  2, 12, 26, 11, 42, 22, 67, 11, 61],\n",
       "       [57, 80, 27, 96, 17, 21, 14, 58, 13, 61],\n",
       "       [14, 85, 23, 36, 50, 60, 94, 48, 35, 81],\n",
       "       [92, 28, 40, 27, 48, 72,  1, 52, 60, 35],\n",
       "       [37, 49, 71, 42, 63,  8, 84, 95,  7, 81],\n",
       "       [27, 57, 22, 81, 71, 45, 37, 52,  5, 98],\n",
       "       [34, 54, 46, 12, 87, 87, 33,  3, 14, 78],\n",
       "       [82, 53, 72, 46, 97, 55, 71, 77, 28,  2],\n",
       "       [71, 39, 11, 12, 37, 70, 43, 65, 52,  9],\n",
       "       [63, 16, 63, 38, 58, 36, 42, 71, 33, 76],\n",
       "       [76, 20,  4, 85, 71, 31, 83, 24,  4, 34],\n",
       "       [33, 91, 46, 44, 95, 92, 91, 34, 85,  2],\n",
       "       [33, 28, 91, 97, 84, 22,  3, 94, 47,  3],\n",
       "       [ 1, 15,  4, 59, 97, 84, 22, 74, 17, 24],\n",
       "       [49, 97, 52, 84,  5, 82, 36, 95, 91, 10],\n",
       "       [92, 38, 87, 54, 72, 69, 87, 44, 76, 79],\n",
       "       [66, 72, 37, 96, 81, 18, 16, 61, 66, 57],\n",
       "       [78, 26, 11, 14, 15, 63, 66, 18,  6, 18],\n",
       "       [79, 48, 50, 50, 83, 79, 97, 76, 59, 60],\n",
       "       [96, 44, 57, 99, 94,  2, 21, 64, 27, 58],\n",
       "       [18, 89,  1, 34, 91, 60, 90, 79, 59, 56],\n",
       "       [15, 58, 21, 74, 63, 60, 88, 55, 33,  9],\n",
       "       [56, 58, 79, 32, 71, 56, 86, 58,  9, 87],\n",
       "       [40, 51, 24, 96,  7, 48, 86, 86, 67, 16],\n",
       "       [34, 26, 97, 83, 64, 40, 60, 76,  9, 54],\n",
       "       [ 9, 19, 97, 10, 29, 87, 90, 56, 60, 84],\n",
       "       [75, 38, 23, 68, 91, 53, 94, 31,  7, 25],\n",
       "       [53, 94, 99, 22, 32, 95, 28, 90, 12, 29],\n",
       "       [64, 58,  9,  8, 61, 34, 22,  5, 66, 52],\n",
       "       [42, 57, 87, 29, 48,  4, 85, 35, 88,  3],\n",
       "       [75, 15, 24, 50, 87, 58, 66, 24, 99,  3],\n",
       "       [59, 69, 32, 86, 60, 73, 77, 14, 74,  8],\n",
       "       [ 2, 47, 36, 39, 43, 43, 72, 23, 21, 84],\n",
       "       [64, 32, 17, 84, 19, 26, 43, 73, 11,  5],\n",
       "       [25, 61, 12, 12, 34, 16,  6, 29, 73, 27],\n",
       "       [87, 49, 80, 97, 21, 35,  2, 34, 43, 18],\n",
       "       [29, 86, 53, 59, 66, 70, 20, 32, 78, 46],\n",
       "       [63, 81, 17, 33, 34, 94, 74, 20, 36, 14],\n",
       "       [33, 76, 73, 59, 33, 83, 64, 47, 30, 81],\n",
       "       [81, 42, 92, 37, 23, 57, 27,  5, 47, 49],\n",
       "       [43, 37, 97, 11, 91, 78, 61, 28, 45, 18],\n",
       "       [30, 78, 36, 56, 43, 64, 11,  6, 68, 57],\n",
       "       [14, 73, 44, 91, 73, 19, 87, 31, 23, 79],\n",
       "       [ 9, 73, 28, 54, 59, 38, 33, 90, 40, 74],\n",
       "       [ 5, 28, 24, 83, 30, 90, 83, 70, 81, 81],\n",
       "       [75, 33, 69, 29, 89, 34, 75, 73, 93, 68],\n",
       "       [40, 28, 34, 81, 35, 64, 15, 90, 40, 53],\n",
       "       [64, 60,  6, 31, 93, 51, 24,  8, 95, 62],\n",
       "       [66, 31, 99, 46, 85, 93, 88, 86, 68, 41],\n",
       "       [74, 44, 68,  1, 28, 58, 64, 81, 44, 16],\n",
       "       [ 4, 29, 55, 60, 16, 60, 82, 38, 44, 71],\n",
       "       [14,  6, 35, 13, 56, 74,  2, 94, 73, 64],\n",
       "       [62, 89,  7, 56, 47,  4, 39, 12, 18, 52],\n",
       "       [28, 10, 88, 35, 90, 10,  4, 73, 94, 59],\n",
       "       [97, 79, 41, 38, 27, 75, 87, 17, 96, 62],\n",
       "       [46, 14, 29, 71, 55, 66, 12,  7, 23, 20],\n",
       "       [10, 16, 22, 82, 60, 41, 44, 28, 82, 32],\n",
       "       [18, 47, 79, 62,  1, 12, 71, 77, 94, 77],\n",
       "       [35, 75, 54, 63, 70, 33, 73, 21, 84, 45],\n",
       "       [52, 14, 48, 91, 90, 73, 34, 33, 77, 22],\n",
       "       [41, 11, 80,  8, 71, 71,  3, 74, 74, 52]])"
      ]
     },
     "execution_count": 47,
     "metadata": {},
     "output_type": "execute_result"
    }
   ],
   "source": [
    "np.random.randint(1,100,1000).reshape(-1,10)"
   ]
  },
  {
   "cell_type": "code",
   "execution_count": 52,
   "metadata": {},
   "outputs": [],
   "source": [
    "random = np.random.random(1000)"
   ]
  },
  {
   "cell_type": "code",
   "execution_count": 54,
   "metadata": {},
   "outputs": [
    {
     "data": {
      "image/png": "[encoded data removed]",
      "text/plain": [
       "<Figure size 432x288 with 1 Axes>"
      ]
     },
     "metadata": {
      "needs_background": "light"
     },
     "output_type": "display_data"
    }
   ],
   "source": [
    "plt.plot(random,'red')\n",
    "plt.show()"
   ]
  },
  {
   "cell_type": "code",
   "execution_count": 57,
   "metadata": {},
   "outputs": [
    {
     "data": {
      "image/png": "[encoded data removed]",
      "text/plain": [
       "<Figure size 432x288 with 1 Axes>"
      ]
     },
     "metadata": {
      "needs_background": "light"
     },
     "output_type": "display_data"
    }
   ],
   "source": [
    "plt.hist(random,bins=30,color='red')\n",
    "plt.show()"
   ]
  },
  {
   "cell_type": "code",
   "execution_count": 59,
   "metadata": {},
   "outputs": [],
   "source": [
    "randn = np.random.randn(10,5)"
   ]
  },
  {
   "cell_type": "code",
   "execution_count": 64,
   "metadata": {},
   "outputs": [
    {
     "data": {
      "image/png": "[encoded data removed]",
      "text/plain": [
       "<Figure size 720x360 with 1 Axes>"
      ]
     },
     "metadata": {
      "needs_background": "light"
     },
     "output_type": "display_data"
    }
   ],
   "source": [
    "plt.figure(figsize=(10,5))\n",
    "plt.plot(randn)\n",
    "plt.title('Graph')\n",
    "plt.xlabel('x-axis')\n",
    "plt.ylabel('y-axis')\n",
    "plt.legend(['one','two','three','four'])\n",
    "plt.show()"
   ]
  },
  {
   "cell_type": "code",
   "execution_count": 67,
   "metadata": {},
   "outputs": [],
   "source": [
    "a = np.arange(36).reshape(6,6)"
   ]
  },
  {
   "cell_type": "code",
   "execution_count": 68,
   "metadata": {},
   "outputs": [
    {
     "data": {
      "text/plain": [
       "array([[ 0,  1,  2,  3,  4,  5],\n",
       "       [ 6,  7,  8,  9, 10, 11],\n",
       "       [12, 13, 14, 15, 16, 17],\n",
       "       [18, 19, 20, 21, 22, 23],\n",
       "       [24, 25, 26, 27, 28, 29],\n",
       "       [30, 31, 32, 33, 34, 35]])"
      ]
     },
     "execution_count": 68,
     "metadata": {},
     "output_type": "execute_result"
    }
   ],
   "source": [
    "a"
   ]
  },
  {
   "cell_type": "code",
   "execution_count": 69,
   "metadata": {},
   "outputs": [],
   "source": [
    "b = np.arange(36).reshape(6,6)"
   ]
  },
  {
   "cell_type": "code",
   "execution_count": 70,
   "metadata": {},
   "outputs": [
    {
     "data": {
      "text/plain": [
       "array([[ 0,  1,  2,  3,  4,  5],\n",
       "       [ 6,  7,  8,  9, 10, 11],\n",
       "       [12, 13, 14, 15, 16, 17],\n",
       "       [18, 19, 20, 21, 22, 23],\n",
       "       [24, 25, 26, 27, 28, 29],\n",
       "       [30, 31, 32, 33, 34, 35]])"
      ]
     },
     "execution_count": 70,
     "metadata": {},
     "output_type": "execute_result"
    }
   ],
   "source": [
    "b"
   ]
  },
  {
   "cell_type": "code",
   "execution_count": 71,
   "metadata": {},
   "outputs": [
    {
     "data": {
      "text/plain": [
       "array([[   0,    1,    4,    9,   16,   25],\n",
       "       [  36,   49,   64,   81,  100,  121],\n",
       "       [ 144,  169,  196,  225,  256,  289],\n",
       "       [ 324,  361,  400,  441,  484,  529],\n",
       "       [ 576,  625,  676,  729,  784,  841],\n",
       "       [ 900,  961, 1024, 1089, 1156, 1225]])"
      ]
     },
     "execution_count": 71,
     "metadata": {},
     "output_type": "execute_result"
    }
   ],
   "source": [
    "a * b"
   ]
  },
  {
   "cell_type": "code",
   "execution_count": 72,
   "metadata": {},
   "outputs": [
    {
     "data": {
      "text/plain": [
       "array([[ 330,  345,  360,  375,  390,  405],\n",
       "       [ 870,  921,  972, 1023, 1074, 1125],\n",
       "       [1410, 1497, 1584, 1671, 1758, 1845],\n",
       "       [1950, 2073, 2196, 2319, 2442, 2565],\n",
       "       [2490, 2649, 2808, 2967, 3126, 3285],\n",
       "       [3030, 3225, 3420, 3615, 3810, 4005]])"
      ]
     },
     "execution_count": 72,
     "metadata": {},
     "output_type": "execute_result"
    }
   ],
   "source": [
    "a @ b"
   ]
  },
  {
   "cell_type": "code",
   "execution_count": 73,
   "metadata": {},
   "outputs": [],
   "source": [
    "a = np.array([[1,2,3],\n",
    "             [4,5,6],\n",
    "             [7,8,9]])\n",
    "\n",
    "b = np.array([[9,8,7],\n",
    "             [6,5,4],\n",
    "             [3,2,1]])"
   ]
  },
  {
   "cell_type": "code",
   "execution_count": 74,
   "metadata": {},
   "outputs": [
    {
     "data": {
      "text/plain": [
       "array([[1, 2, 3],\n",
       "       [4, 5, 6],\n",
       "       [7, 8, 9]])"
      ]
     },
     "execution_count": 74,
     "metadata": {},
     "output_type": "execute_result"
    }
   ],
   "source": [
    "a"
   ]
  },
  {
   "cell_type": "code",
   "execution_count": 75,
   "metadata": {},
   "outputs": [
    {
     "data": {
      "text/plain": [
       "array([[9, 8, 7],\n",
       "       [6, 5, 4],\n",
       "       [3, 2, 1]])"
      ]
     },
     "execution_count": 75,
     "metadata": {},
     "output_type": "execute_result"
    }
   ],
   "source": [
    "b"
   ]
  },
  {
   "cell_type": "code",
   "execution_count": 76,
   "metadata": {},
   "outputs": [
    {
     "data": {
      "text/plain": [
       "array([[ 30,  24,  18],\n",
       "       [ 84,  69,  54],\n",
       "       [138, 114,  90]])"
      ]
     },
     "execution_count": 76,
     "metadata": {},
     "output_type": "execute_result"
    }
   ],
   "source": [
    "a @ b"
   ]
  },
  {
   "cell_type": "code",
   "execution_count": null,
   "metadata": {},
   "outputs": [],
   "source": []
  }
 ],
 "metadata": {
  "kernelspec": {
   "display_name": "Python 3",
   "language": "python",
   "name": "python3"
  },
  "language_info": {
   "codemirror_mode": {
    "name": "ipython",
    "version": 3
   },
   "file_extension": ".py",
   "mimetype": "text/x-python",
   "name": "python",
   "nbconvert_exporter": "python",
   "pygments_lexer": "ipython3",
   "version": "3.7.3"
  }
 },
 "nbformat": 4,
 "nbformat_minor": 2
}
