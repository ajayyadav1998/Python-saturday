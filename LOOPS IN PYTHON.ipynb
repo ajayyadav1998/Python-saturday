{
 "cells": [
  {
   "cell_type": "raw",
   "metadata": {},
   "source": [
    "while condition:\n",
    "    statement1\n",
    "    statement2\n",
    "    statement3\n",
    "else:\n",
    "    statement"
   ]
  },
  {
   "cell_type": "code",
   "execution_count": 1,
   "metadata": {},
   "outputs": [
    {
     "name": "stdout",
     "output_type": "stream",
     "text": [
      "c  =  1\n",
      "c  =  4\n",
      "c  =  9\n",
      "c  =  16\n",
      "c  =  25\n"
     ]
    }
   ],
   "source": [
    "c = 1\n",
    "while c <= 5:\n",
    "    print('c  = ',c*c)\n",
    "    c += 1"
   ]
  },
  {
   "cell_type": "code",
   "execution_count": 3,
   "metadata": {},
   "outputs": [
    {
     "name": "stdout",
     "output_type": "stream",
     "text": [
      "hello 1\n",
      "hello 2\n",
      "hello 3\n",
      "hello 4\n",
      "hello 5\n",
      "did you get it???\n"
     ]
    }
   ],
   "source": [
    "c = 1\n",
    "while c <=  5:\n",
    "    print('hello {}'.format(c))\n",
    "    c += 1\n",
    "else:\n",
    "    print('did you get it???')"
   ]
  },
  {
   "cell_type": "code",
   "execution_count": 5,
   "metadata": {},
   "outputs": [
    {
     "name": "stdout",
     "output_type": "stream",
     "text": [
      "1\n",
      "4\n",
      "5\n",
      "8\n",
      "9\n"
     ]
    }
   ],
   "source": [
    "c = 1\n",
    "while c <= 10:\n",
    "    print(c)\n",
    "    if c % 2 :\n",
    "        c += 2\n",
    "    c += 1"
   ]
  },
  {
   "cell_type": "code",
   "execution_count": 6,
   "metadata": {},
   "outputs": [
    {
     "name": "stdout",
     "output_type": "stream",
     "text": [
      "4\n",
      "7\n",
      "10\n",
      "13\n",
      "can i print or not\n"
     ]
    }
   ],
   "source": [
    "c = 1\n",
    "while c <= 10:\n",
    "    c += 1\n",
    "    if c % 2==0:\n",
    "        c += 2\n",
    "    else:\n",
    "        c += 2\n",
    "    print(c)\n",
    "else:\n",
    "    print('can i print or not')"
   ]
  },
  {
   "cell_type": "code",
   "execution_count": 7,
   "metadata": {},
   "outputs": [
    {
     "name": "stdout",
     "output_type": "stream",
     "text": [
      "1\n",
      "5\n",
      "5\n",
      "9\n",
      "9\n",
      "13\n",
      "chalu ya nahi\n"
     ]
    }
   ],
   "source": [
    "c= 1\n",
    "while c <= 10:\n",
    "    print(c)\n",
    "    c += 2\n",
    "    if c % 2:\n",
    "        c += 2\n",
    "    else:\n",
    "        c += 2\n",
    "    print(c)\n",
    "else:\n",
    "    print('chalu ya nahi')"
   ]
  },
  {
   "cell_type": "code",
   "execution_count": 8,
   "metadata": {},
   "outputs": [
    {
     "name": "stdout",
     "output_type": "stream",
     "text": [
      "1\n",
      "5\n",
      "9\n",
      "printinggg........\n"
     ]
    }
   ],
   "source": [
    "c = 1\n",
    "while c <=10:\n",
    "    print(c)\n",
    "    if c % 2:\n",
    "        c += 3\n",
    "    else:\n",
    "        c += 2\n",
    "    c += 1\n",
    "else:\n",
    "    print('printinggg........')"
   ]
  },
  {
   "cell_type": "code",
   "execution_count": 9,
   "metadata": {},
   "outputs": [
    {
     "name": "stdout",
     "output_type": "stream",
     "text": [
      "6\n",
      "10\n",
      "14\n"
     ]
    }
   ],
   "source": [
    "c = 1\n",
    "while c <= 10:\n",
    "    c += 2\n",
    "    if c % 2 ==0:\n",
    "        c += 2\n",
    "    else:\n",
    "        c += 3\n",
    "    print(c)"
   ]
  },
  {
   "cell_type": "code",
   "execution_count": 10,
   "metadata": {},
   "outputs": [
    {
     "name": "stdout",
     "output_type": "stream",
     "text": [
      "1\n",
      "9\n",
      "9\n",
      "17\n"
     ]
    }
   ],
   "source": [
    "c = 1\n",
    "while c <= 10:\n",
    "    print(c)\n",
    "    c += 3\n",
    "    if c % 5==0:\n",
    "        c -=2\n",
    "    else:\n",
    "        c += 5\n",
    "    print(c)"
   ]
  },
  {
   "cell_type": "code",
   "execution_count": 11,
   "metadata": {},
   "outputs": [
    {
     "name": "stdout",
     "output_type": "stream",
     "text": [
      "5\n",
      "9\n",
      "13\n"
     ]
    }
   ],
   "source": [
    "c = 1\n",
    "while c <= 10:\n",
    "    c +=1 \n",
    "    if c % 2 ==0:\n",
    "        c += 3\n",
    "    else:\n",
    "        c +=3\n",
    "    print(c)"
   ]
  },
  {
   "cell_type": "code",
   "execution_count": 12,
   "metadata": {},
   "outputs": [
    {
     "name": "stdout",
     "output_type": "stream",
     "text": [
      "loop starts from here\n",
      "kya hua????\n",
      "loop ends here\n"
     ]
    }
   ],
   "source": [
    "c = 1\n",
    "print('loop starts from here')\n",
    "while c >= 10:\n",
    "    c = 1\n",
    "    print('whola i am inside the loop')\n",
    "    print(f'hello {c}')\n",
    "    c +=1\n",
    "else:\n",
    "    print('kya hua????')\n",
    "print('loop ends here')"
   ]
  },
  {
   "cell_type": "code",
   "execution_count": 15,
   "metadata": {},
   "outputs": [
    {
     "name": "stdout",
     "output_type": "stream",
     "text": [
      "kuch bhi\n",
      "hello world 1\n",
      "kuch bhi\n",
      "hello world 2\n",
      "kuch bhi\n",
      "hello world 3\n",
      "kuch bhi\n",
      "hello world 4\n",
      "kuch bhi\n",
      "hello world 5\n",
      "kuch bhi\n",
      "hello world 6\n",
      "kuch bhi\n",
      "hello world 7\n",
      "kuch bhi\n",
      "hello world 8\n",
      "kuch bhi\n",
      "hello world 9\n",
      "bye-bye\n"
     ]
    }
   ],
   "source": [
    "c = 1\n",
    "while c <= 50:\n",
    "    if c == 10:\n",
    "        print('bye-bye')\n",
    "        break\n",
    "    else:\n",
    "        print('kuch bhi')\n",
    "    print(f'hello world {c}')\n",
    "    c += 1\n",
    "else:\n",
    "    print('ends noowwwww')"
   ]
  },
  {
   "cell_type": "code",
   "execution_count": 16,
   "metadata": {},
   "outputs": [
    {
     "name": "stdout",
     "output_type": "stream",
     "text": [
      "hello 5\n",
      "hello 4\n",
      "hello 3\n"
     ]
    },
    {
     "ename": "KeyboardInterrupt",
     "evalue": "",
     "output_type": "error",
     "traceback": [
      "\u001b[1;31m---------------------------------------------------------------------------\u001b[0m",
      "\u001b[1;31mKeyboardInterrupt\u001b[0m                         Traceback (most recent call last)",
      "\u001b[1;32m<ipython-input-16-efcfe290a9cb>\u001b[0m in \u001b[0;36m<module>\u001b[1;34m\u001b[0m\n\u001b[0;32m      2\u001b[0m \u001b[1;32mwhile\u001b[0m \u001b[0mc\u001b[0m \u001b[1;33m>\u001b[0m \u001b[1;36m0\u001b[0m\u001b[1;33m:\u001b[0m\u001b[1;33m\u001b[0m\u001b[1;33m\u001b[0m\u001b[0m\n\u001b[0;32m      3\u001b[0m     \u001b[1;32mif\u001b[0m \u001b[0mc\u001b[0m \u001b[1;33m==\u001b[0m \u001b[1;36m2\u001b[0m\u001b[1;33m:\u001b[0m\u001b[1;33m\u001b[0m\u001b[1;33m\u001b[0m\u001b[0m\n\u001b[1;32m----> 4\u001b[1;33m         \u001b[1;32mcontinue\u001b[0m\u001b[1;33m\u001b[0m\u001b[1;33m\u001b[0m\u001b[0m\n\u001b[0m\u001b[0;32m      5\u001b[0m     \u001b[0mprint\u001b[0m\u001b[1;33m(\u001b[0m\u001b[1;34mf'hello {c}'\u001b[0m\u001b[1;33m)\u001b[0m\u001b[1;33m\u001b[0m\u001b[1;33m\u001b[0m\u001b[0m\n\u001b[0;32m      6\u001b[0m     \u001b[0mc\u001b[0m \u001b[1;33m-=\u001b[0m \u001b[1;36m1\u001b[0m\u001b[1;33m\u001b[0m\u001b[1;33m\u001b[0m\u001b[0m\n",
      "\u001b[1;31mKeyboardInterrupt\u001b[0m: "
     ]
    }
   ],
   "source": [
    "c = 5\n",
    "while c > 0:\n",
    "    if c == 2:\n",
    "        continue\n",
    "    print(f'hello {c}')\n",
    "    c -= 1\n",
    "else:\n",
    "    print('shall i run or not?????')"
   ]
  },
  {
   "cell_type": "code",
   "execution_count": 17,
   "metadata": {},
   "outputs": [
    {
     "name": "stdout",
     "output_type": "stream",
     "text": [
      "hello 4\n",
      "hello 1\n",
      "shall i run or not?????\n"
     ]
    }
   ],
   "source": [
    "c = 5\n",
    "while c > 0:\n",
    "    c -= 1\n",
    "    if c == 2:\n",
    "        continue\n",
    "    print(f'hello {c}')\n",
    "    c -= 1\n",
    "else:\n",
    "    print('shall i run or not?????')"
   ]
  },
  {
   "cell_type": "markdown",
   "metadata": {},
   "source": [
    "# for loop in python"
   ]
  },
  {
   "cell_type": "code",
   "execution_count": 20,
   "metadata": {},
   "outputs": [
    {
     "name": "stdout",
     "output_type": "stream",
     "text": [
      "1\n",
      "2\n",
      "3\n",
      "4\n",
      "5\n",
      "6\n",
      "7\n",
      "8\n",
      "9\n"
     ]
    }
   ],
   "source": [
    "for var in range(1,10):\n",
    "    print(var)"
   ]
  },
  {
   "cell_type": "code",
   "execution_count": 21,
   "metadata": {},
   "outputs": [
    {
     "name": "stdout",
     "output_type": "stream",
     "text": [
      "hello world  1\n",
      "hello world  2\n",
      "hello world  3\n",
      "hello world  4\n",
      "hello world  5\n",
      "hello world  6\n",
      "hello world  7\n",
      "hello world  8\n",
      "hello world  9\n",
      "hello world  10\n"
     ]
    }
   ],
   "source": [
    "for a in range(1,11):\n",
    "    print('hello world ',a)"
   ]
  },
  {
   "cell_type": "code",
   "execution_count": 22,
   "metadata": {},
   "outputs": [
    {
     "name": "stdout",
     "output_type": "stream",
     "text": [
      "g\n",
      "r\n",
      "r\n",
      "a\n",
      "s\n"
     ]
    }
   ],
   "source": [
    "for var in 'grras':\n",
    "    print(var)"
   ]
  },
  {
   "cell_type": "code",
   "execution_count": 23,
   "metadata": {},
   "outputs": [
    {
     "name": "stdout",
     "output_type": "stream",
     "text": [
      "p a\n",
      "p j\n",
      "p a\n",
      "p y\n",
      "y a\n",
      "y j\n",
      "y a\n",
      "y y\n",
      "t a\n",
      "t j\n",
      "t a\n",
      "t y\n",
      "h a\n",
      "h j\n",
      "h a\n",
      "h y\n",
      "o a\n",
      "o j\n",
      "o a\n",
      "o y\n",
      "n a\n",
      "n j\n",
      "n a\n",
      "n y\n"
     ]
    }
   ],
   "source": [
    "for var in 'python':\n",
    "    for tar in 'ajay':\n",
    "        print(var,tar)"
   ]
  },
  {
   "cell_type": "code",
   "execution_count": 24,
   "metadata": {},
   "outputs": [
    {
     "name": "stdout",
     "output_type": "stream",
     "text": [
      "ajay\n",
      "sachin\n",
      "nokhil\n",
      "grras\n",
      "python\n"
     ]
    }
   ],
   "source": [
    "for var in ['ajay','sachin','nokhil','grras','python']:\n",
    "    print(var)"
   ]
  },
  {
   "cell_type": "code",
   "execution_count": 25,
   "metadata": {},
   "outputs": [],
   "source": [
    "di ={\n",
    "    'name':'python',\n",
    "    'cretor':'guido van rossum',\n",
    "    'version':3.7\n",
    "}"
   ]
  },
  {
   "cell_type": "code",
   "execution_count": 26,
   "metadata": {},
   "outputs": [
    {
     "data": {
      "text/plain": [
       "dict_items([('name', 'python'), ('cretor', 'guido van rossum'), ('version', 3.7)])"
      ]
     },
     "execution_count": 26,
     "metadata": {},
     "output_type": "execute_result"
    }
   ],
   "source": [
    "di.items()"
   ]
  },
  {
   "cell_type": "code",
   "execution_count": 28,
   "metadata": {},
   "outputs": [
    {
     "name": "stdout",
     "output_type": "stream",
     "text": [
      "name==python\n",
      "cretor==guido van rossum\n",
      "version==3.7\n"
     ]
    }
   ],
   "source": [
    "for key,value in di.items():\n",
    "    print(key,value,sep='==')"
   ]
  },
  {
   "cell_type": "code",
   "execution_count": 31,
   "metadata": {},
   "outputs": [
    {
     "name": "stdout",
     "output_type": "stream",
     "text": [
      "enter a number for month : 5\n",
      "jan feb mar apr\n",
      "the given month is :  may\n",
      "june jul aug sep oct nov dec\n"
     ]
    }
   ],
   "source": [
    "a = ['jan','feb','mar','apr','may','june','jul','aug','sep','oct','nov','dec']\n",
    "\n",
    "inp = int(input('enter a number for month : '))\n",
    "\n",
    "if inp >= 1 and inp <=12:\n",
    "    print(*a[:inp-1])\n",
    "    print('the given month is : ',a[inp-1])\n",
    "    print(*a[inp:])\n",
    "else:\n",
    "    print('plzz give valid input')"
   ]
  },
  {
   "cell_type": "code",
   "execution_count": 10,
   "metadata": {},
   "outputs": [
    {
     "name": "stdout",
     "output_type": "stream",
     "text": [
      "enter the number : 1\n",
      "enter the number : 2\n",
      "enter the number : 3\n",
      "enter the number : 4\n",
      "enter the number : 5\n",
      "enter the number : 6\n",
      "enter the number : 7\n",
      "enter the number : 8\n",
      "enter the number : 9\n",
      "enter the number : 10\n",
      "5.5\n"
     ]
    }
   ],
   "source": [
    "s = 0\n",
    "c = 1\n",
    "while c <= 10:\n",
    "    num = int(input('enter the number : '))\n",
    "    s = s + num\n",
    "    c += 1\n",
    "print('the avg of given number is ',s/10.0)"
   ]
  },
  {
   "cell_type": "code",
   "execution_count": 12,
   "metadata": {},
   "outputs": [
    {
     "name": "stdout",
     "output_type": "stream",
     "text": [
      "*\n",
      "**\n",
      "***\n",
      "****\n",
      "*****\n"
     ]
    }
   ],
   "source": [
    "c = 1\n",
    "while c <= 5:\n",
    "    print('*'*c)\n",
    "    c += 1"
   ]
  },
  {
   "cell_type": "code",
   "execution_count": 14,
   "metadata": {},
   "outputs": [
    {
     "name": "stdout",
     "output_type": "stream",
     "text": [
      "         * \n",
      "        * * \n",
      "       * * * \n",
      "      * * * * \n",
      "     * * * * * \n",
      "    * * * * * * \n",
      "   * * * * * * * \n",
      "  * * * * * * * * \n",
      " * * * * * * * * * \n",
      "* * * * * * * * * * \n",
      " * * * * * * * * * \n",
      "  * * * * * * * * \n",
      "   * * * * * * * \n",
      "    * * * * * * \n",
      "     * * * * * \n",
      "      * * * * \n",
      "       * * * \n",
      "        * * \n",
      "         * \n",
      "          \n"
     ]
    }
   ],
   "source": [
    "c = 1\n",
    "d = 1\n",
    "while c <= 10:\n",
    "    print(' '*(10-c)+'* '*c)\n",
    "    c += 1\n",
    "while d <= 10:\n",
    "    print(' '*d+'* '*(10-d))\n",
    "    d += 1"
   ]
  },
  {
   "cell_type": "code",
   "execution_count": 17,
   "metadata": {},
   "outputs": [
    {
     "name": "stdout",
     "output_type": "stream",
     "text": [
      "enter the number for pattern : 5\n",
      "*\n",
      "**\n",
      "***\n",
      "****\n",
      "*****\n"
     ]
    }
   ],
   "source": [
    "num = int(input('enter the number for pattern : '))\n",
    "c = 1\n",
    "while c<=num:\n",
    "    print('*'*c)\n",
    "    c += 1"
   ]
  },
  {
   "cell_type": "code",
   "execution_count": 24,
   "metadata": {},
   "outputs": [
    {
     "name": "stdout",
     "output_type": "stream",
     "text": [
      "enter a number to check weather is factorial or not : 6\n",
      "not a prime number\n"
     ]
    }
   ],
   "source": [
    "num = int(input('enter a number to check weather is factorial or not : '))\n",
    "for var in range(2,num+1):\n",
    "    if num % var==0:\n",
    "        print('not a prime number')\n",
    "        break\n",
    "    else:\n",
    "        print('prime number')\n",
    "        break"
   ]
  },
  {
   "cell_type": "code",
   "execution_count": 29,
   "metadata": {},
   "outputs": [
    {
     "name": "stdout",
     "output_type": "stream",
     "text": [
      "10\n",
      "0 1 1 2 3 5 8 13 21 34 "
     ]
    }
   ],
   "source": [
    "a,b,c = 0,1,1\n",
    "num = int(input())\n",
    "while c <= num:\n",
    "    print(a,end=' ')\n",
    "    a,b = b,a+b\n",
    "    c += 1"
   ]
  },
  {
   "cell_type": "code",
   "execution_count": 38,
   "metadata": {},
   "outputs": [
    {
     "name": "stdout",
     "output_type": "stream",
     "text": [
      "* * * * * \n",
      "*       * \n",
      "*       * \n",
      "*       * \n",
      "* * * * * \n",
      "*       * \n",
      "*       * \n"
     ]
    }
   ],
   "source": [
    "for row in range(7):\n",
    "    for col in range(5):\n",
    "        if (row == 0 or row == 4) or (col == 0 or col ==4):\n",
    "            print('*',end=' ')\n",
    "        else:\n",
    "            print(' ',end=' ')\n",
    "    print('')"
   ]
  },
  {
   "cell_type": "code",
   "execution_count": 42,
   "metadata": {},
   "outputs": [
    {
     "name": "stdout",
     "output_type": "stream",
     "text": [
      "                          A \n",
      "                         B B \n",
      "                        C C C \n",
      "                       D D D D \n",
      "                      E E E E E \n",
      "                     F F F F F F \n",
      "                    G G G G G G G \n",
      "                   H H H H H H H H \n",
      "                  I I I I I I I I I \n",
      "                 J J J J J J J J J J \n",
      "                K K K K K K K K K K K \n",
      "               L L L L L L L L L L L L \n",
      "              M M M M M M M M M M M M M \n",
      "             N N N N N N N N N N N N N N \n",
      "            O O O O O O O O O O O O O O O \n",
      "           P P P P P P P P P P P P P P P P \n",
      "          Q Q Q Q Q Q Q Q Q Q Q Q Q Q Q Q Q \n",
      "         R R R R R R R R R R R R R R R R R R \n",
      "        S S S S S S S S S S S S S S S S S S S \n",
      "       T T T T T T T T T T T T T T T T T T T T \n",
      "      U U U U U U U U U U U U U U U U U U U U U \n",
      "     V V V V V V V V V V V V V V V V V V V V V V \n",
      "    W W W W W W W W W W W W W W W W W W W W W W W \n",
      "   X X X X X X X X X X X X X X X X X X X X X X X X \n",
      "  Y Y Y Y Y Y Y Y Y Y Y Y Y Y Y Y Y Y Y Y Y Y Y Y Y \n",
      " Z Z Z Z Z Z Z Z Z Z Z Z Z Z Z Z Z Z Z Z Z Z Z Z Z Z \n"
     ]
    }
   ],
   "source": [
    "c = 1\n",
    "for var in range(65,91):\n",
    "    print(' '*(91-var)+f'{chr(var)} '*c)\n",
    "    c += 1"
   ]
  },
  {
   "cell_type": "code",
   "execution_count": 43,
   "metadata": {},
   "outputs": [
    {
     "name": "stdout",
     "output_type": "stream",
     "text": [
      "*\n",
      "**\n",
      "***\n",
      "****\n",
      "*****\n",
      "******\n",
      "*******\n",
      "********\n",
      "*********\n"
     ]
    }
   ],
   "source": [
    "for var in range(1,10):\n",
    "    print('*'*var)"
   ]
  },
  {
   "cell_type": "code",
   "execution_count": 44,
   "metadata": {},
   "outputs": [
    {
     "data": {
      "text/plain": [
       "'55'"
      ]
     },
     "execution_count": 44,
     "metadata": {},
     "output_type": "execute_result"
    }
   ],
   "source": [
    "'5'+'5'"
   ]
  },
  {
   "cell_type": "code",
   "execution_count": 50,
   "metadata": {},
   "outputs": [
    {
     "name": "stdout",
     "output_type": "stream",
     "text": [
      "&&&&&&&&&* \n",
      "&&&&&&&&* * \n",
      "&&&&&&&* * * \n",
      "&&&&&&* * * * \n",
      "&&&&&* * * * * \n",
      "&&&&* * * * * * \n",
      "&&&* * * * * * * \n",
      "&&* * * * * * * * \n",
      "&* * * * * * * * * \n"
     ]
    }
   ],
   "source": [
    "for var in range(1,10):\n",
    "d    print('&'*(10-var)+'* '*var)"
   ]
  },
  {
   "cell_type": "code",
   "execution_count": 52,
   "metadata": {},
   "outputs": [
    {
     "name": "stdout",
     "output_type": "stream",
     "text": [
      "         * \n",
      "        * * \n",
      "       * * * \n",
      "      * * * * \n",
      "     * * * * * \n",
      "    * * * * * * \n",
      "   * * * * * * * \n",
      "  * * * * * * * * \n",
      " * * * * * * * * * \n",
      "* * * * * * * * * * \n",
      " * * * * * * * * * \n",
      "  * * * * * * * * \n",
      "   * * * * * * * \n",
      "    * * * * * * \n",
      "     * * * * * \n",
      "      * * * * \n",
      "       * * * \n",
      "        * * \n",
      "         * \n",
      "          \n"
     ]
    }
   ],
   "source": [
    "d = 1\n",
    "c = 1\n",
    "while c <= 10:\n",
    "    print(' '*(10-c)+'* '*c)\n",
    "    c += 1\n",
    "while d <= 10:\n",
    "    print(' '*d+'* '*(10-d))\n",
    "    d += 1"
   ]
  },
  {
   "cell_type": "code",
   "execution_count": 53,
   "metadata": {},
   "outputs": [
    {
     "name": "stdout",
     "output_type": "stream",
     "text": [
      "*\n",
      "**\n",
      "***\n",
      "****\n",
      "*****\n",
      "******\n",
      "*******\n",
      "********\n",
      "*********\n"
     ]
    }
   ],
   "source": [
    "d = map(lambda x :\"*\"*x,range(1,10))\n",
    "print(*d,sep='\\n')"
   ]
  },
  {
   "cell_type": "code",
   "execution_count": 54,
   "metadata": {},
   "outputs": [
    {
     "data": {
      "text/plain": [
       "65"
      ]
     },
     "execution_count": 54,
     "metadata": {},
     "output_type": "execute_result"
    }
   ],
   "source": [
    "ord(\"A\")"
   ]
  },
  {
   "cell_type": "code",
   "execution_count": 56,
   "metadata": {},
   "outputs": [
    {
     "data": {
      "text/plain": [
       "'A'"
      ]
     },
     "execution_count": 56,
     "metadata": {},
     "output_type": "execute_result"
    }
   ],
   "source": [
    "chr(65)"
   ]
  },
  {
   "cell_type": "code",
   "execution_count": null,
   "metadata": {},
   "outputs": [],
   "source": []
  }
 ],
 "metadata": {
  "kernelspec": {
   "display_name": "Python 3",
   "language": "python",
   "name": "python3"
  },
  "language_info": {
   "codemirror_mode": {
    "name": "ipython",
    "version": 3
   },
   "file_extension": ".py",
   "mimetype": "text/x-python",
   "name": "python",
   "nbconvert_exporter": "python",
   "pygments_lexer": "ipython3",
   "version": "3.7.3"
  }
 },
 "nbformat": 4,
 "nbformat_minor": 2
}
